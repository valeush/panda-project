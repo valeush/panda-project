{
 "cells": [
  {
   "cell_type": "code",
   "execution_count": null,
   "id": "63e44d47",
   "metadata": {
    "vscode": {
     "languageId": "r"
    }
   },
   "outputs": [],
   "source": [
    "# exploracion_datos.ipynb\n",
    "\n",
    "# 1. Importar librerías necesarias\n",
    "import pandas as pd\n",
    "import matplotlib.pyplot as plt\n",
    "import seaborn as sns\n",
    "\n",
    "# 2. Cargar el dataset\n",
    "df = pd.read_csv(\"global_street_food.csv\")\n",
    "\n",
    "# 3. Primer vistazo a los datos\n",
    "print(\"Primeras 5 filas:\")\n",
    "display(df.head())\n",
    "\n",
    "print(\"\\nInformación general del dataset:\")\n",
    "df.info()\n",
    "\n",
    "# 4. Estadísticas descriptivas básicas\n",
    "print(\"\\nEstadísticas descriptivas:\")\n",
    "display(df.describe())\n",
    "\n",
    "# 5. Revisión de valores faltantes\n",
    "print(\"\\nValores faltantes por columna:\")\n",
    "print(df.isnull().sum())\n",
    "\n",
    "# 6. Análisis básico - Conteo platos vegetarianos vs no vegetarianos\n",
    "plt.figure(figsize=(6,4))\n",
    "sns.countplot(x=\"Vegetarian\", data=df)\n",
    "plt.title(\"Cantidad de platos Vegetarianos vs No Vegetarianos\")\n",
    "plt.show()\n",
    "\n",
    "# 7. Análisis básico - Histograma de precios típicos\n",
    "plt.figure(figsize=(8,5))\n",
    "sns.histplot(df[\"Typical Price (USD)\"], bins=20, kde=True)\n",
    "plt.title(\"Distribución de precios típicos (USD)\")\n",
    "plt.xlabel(\"Precio típico (USD)\")\n",
    "plt.show()\n",
    "\n",
    "# 8. Análisis básico - Platos por país (top 10)\n",
    "plt.figure(figsize=(12,6))\n",
    "top_countries = df['Country'].value_counts().head(10).index\n",
    "sns.countplot(y=\"Country\", data=df[df['Country'].isin(top_countries)], order=top_countries)\n",
    "plt.title(\"Top 10 países con más platos en el dataset\")\n",
    "plt.show()\n",
    "\n",
    "# 9. Conclusiones y siguientes pasos\n",
    "print(\"Este análisis muestra la distribución básica de los platos en el dataset, el porcentaje de platos vegetarianos y la variación de precios.\")\n",
    "print(\"Siguientes pasos podrían incluir limpieza de datos, análisis más profundos, y visualizaciones avanzadas.\")\n"
   ]
  }
 ],
 "metadata": {
  "language_info": {
   "name": "python"
  }
 },
 "nbformat": 4,
 "nbformat_minor": 5
}
